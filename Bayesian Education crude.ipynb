{
 "cells": [
  {
   "cell_type": "code",
   "execution_count": 1,
   "metadata": {},
   "outputs": [],
   "source": [
    "import pandas as pd\n",
    "import numpy as np\n",
    "import arviz as az"
   ]
  },
  {
   "cell_type": "code",
   "execution_count": 2,
   "metadata": {},
   "outputs": [],
   "source": [
    "df_vietnam = pd.read_excel(r'alldatasets.xlsx',sheet_name='Vietnam')"
   ]
  },
  {
   "cell_type": "code",
   "execution_count": 3,
   "metadata": {},
   "outputs": [
    {
     "data": {
      "text/html": [
       "<div>\n",
       "<style scoped>\n",
       "    .dataframe tbody tr th:only-of-type {\n",
       "        vertical-align: middle;\n",
       "    }\n",
       "\n",
       "    .dataframe tbody tr th {\n",
       "        vertical-align: top;\n",
       "    }\n",
       "\n",
       "    .dataframe thead th {\n",
       "        text-align: right;\n",
       "    }\n",
       "</style>\n",
       "<table border=\"1\" class=\"dataframe\">\n",
       "  <thead>\n",
       "    <tr style=\"text-align: right;\">\n",
       "      <th></th>\n",
       "      <th>childid</th>\n",
       "      <th>country</th>\n",
       "      <th>height</th>\n",
       "      <th>stunting_2cat</th>\n",
       "      <th>EDUYRS2</th>\n",
       "      <th>z_score</th>\n",
       "      <th>timeschool</th>\n",
       "      <th>agegapr1</th>\n",
       "      <th>momeduyrsr1</th>\n",
       "      <th>chsexr1</th>\n",
       "      <th>agemonr1</th>\n",
       "      <th>hhsizer1</th>\n",
       "      <th>wi_newr1</th>\n",
       "      <th>job_cat</th>\n",
       "      <th>pvt_sector</th>\n",
       "      <th>earn</th>\n",
       "      <th>earn_usd</th>\n",
       "    </tr>\n",
       "  </thead>\n",
       "  <tbody>\n",
       "    <tr>\n",
       "      <th>0</th>\n",
       "      <td>VN011001</td>\n",
       "      <td>Vietnam</td>\n",
       "      <td>170.000000</td>\n",
       "      <td>1</td>\n",
       "      <td>12.0</td>\n",
       "      <td>-0.493371</td>\n",
       "      <td>5.0</td>\n",
       "      <td>NaN</td>\n",
       "      <td>12.0</td>\n",
       "      <td>1</td>\n",
       "      <td>91</td>\n",
       "      <td>5</td>\n",
       "      <td>0.561111</td>\n",
       "      <td>1</td>\n",
       "      <td>1</td>\n",
       "      <td>0.0</td>\n",
       "      <td>0.000000</td>\n",
       "    </tr>\n",
       "    <tr>\n",
       "      <th>1</th>\n",
       "      <td>VN011002</td>\n",
       "      <td>Vietnam</td>\n",
       "      <td>153.500000</td>\n",
       "      <td>1</td>\n",
       "      <td>12.0</td>\n",
       "      <td>-0.795860</td>\n",
       "      <td>15.0</td>\n",
       "      <td>3.0</td>\n",
       "      <td>9.0</td>\n",
       "      <td>0</td>\n",
       "      <td>92</td>\n",
       "      <td>6</td>\n",
       "      <td>0.546296</td>\n",
       "      <td>1</td>\n",
       "      <td>1</td>\n",
       "      <td>0.0</td>\n",
       "      <td>0.000000</td>\n",
       "    </tr>\n",
       "    <tr>\n",
       "      <th>2</th>\n",
       "      <td>VN011003</td>\n",
       "      <td>Vietnam</td>\n",
       "      <td>158.000000</td>\n",
       "      <td>1</td>\n",
       "      <td>8.0</td>\n",
       "      <td>-1.421140</td>\n",
       "      <td>5.0</td>\n",
       "      <td>7.0</td>\n",
       "      <td>6.0</td>\n",
       "      <td>0</td>\n",
       "      <td>100</td>\n",
       "      <td>5</td>\n",
       "      <td>0.455556</td>\n",
       "      <td>2</td>\n",
       "      <td>1</td>\n",
       "      <td>19200000.0</td>\n",
       "      <td>875.313416</td>\n",
       "    </tr>\n",
       "    <tr>\n",
       "      <th>3</th>\n",
       "      <td>VN011004</td>\n",
       "      <td>Vietnam</td>\n",
       "      <td>157.500000</td>\n",
       "      <td>0</td>\n",
       "      <td>12.0</td>\n",
       "      <td>-0.539453</td>\n",
       "      <td>10.0</td>\n",
       "      <td>0.0</td>\n",
       "      <td>9.0</td>\n",
       "      <td>0</td>\n",
       "      <td>94</td>\n",
       "      <td>6</td>\n",
       "      <td>0.592593</td>\n",
       "      <td>5</td>\n",
       "      <td>1</td>\n",
       "      <td>4600000.0</td>\n",
       "      <td>209.710495</td>\n",
       "    </tr>\n",
       "    <tr>\n",
       "      <th>4</th>\n",
       "      <td>VN011005</td>\n",
       "      <td>Vietnam</td>\n",
       "      <td>157.600006</td>\n",
       "      <td>0</td>\n",
       "      <td>16.0</td>\n",
       "      <td>-0.297198</td>\n",
       "      <td>10.0</td>\n",
       "      <td>4.0</td>\n",
       "      <td>0.0</td>\n",
       "      <td>0</td>\n",
       "      <td>95</td>\n",
       "      <td>5</td>\n",
       "      <td>0.466667</td>\n",
       "      <td>5</td>\n",
       "      <td>1</td>\n",
       "      <td>2800000.0</td>\n",
       "      <td>127.649872</td>\n",
       "    </tr>\n",
       "  </tbody>\n",
       "</table>\n",
       "</div>"
      ],
      "text/plain": [
       "    childid  country      height  stunting_2cat  EDUYRS2   z_score  \\\n",
       "0  VN011001  Vietnam  170.000000              1     12.0 -0.493371   \n",
       "1  VN011002  Vietnam  153.500000              1     12.0 -0.795860   \n",
       "2  VN011003  Vietnam  158.000000              1      8.0 -1.421140   \n",
       "3  VN011004  Vietnam  157.500000              0     12.0 -0.539453   \n",
       "4  VN011005  Vietnam  157.600006              0     16.0 -0.297198   \n",
       "\n",
       "   timeschool  agegapr1  momeduyrsr1  chsexr1  agemonr1  hhsizer1  wi_newr1  \\\n",
       "0         5.0       NaN         12.0        1        91         5  0.561111   \n",
       "1        15.0       3.0          9.0        0        92         6  0.546296   \n",
       "2         5.0       7.0          6.0        0       100         5  0.455556   \n",
       "3        10.0       0.0          9.0        0        94         6  0.592593   \n",
       "4        10.0       4.0          0.0        0        95         5  0.466667   \n",
       "\n",
       "   job_cat  pvt_sector        earn    earn_usd  \n",
       "0        1           1         0.0    0.000000  \n",
       "1        1           1         0.0    0.000000  \n",
       "2        2           1  19200000.0  875.313416  \n",
       "3        5           1   4600000.0  209.710495  \n",
       "4        5           1   2800000.0  127.649872  "
      ]
     },
     "execution_count": 3,
     "metadata": {},
     "output_type": "execute_result"
    }
   ],
   "source": [
    "df_vietnam.head()"
   ]
  },
  {
   "cell_type": "code",
   "execution_count": 4,
   "metadata": {},
   "outputs": [
    {
     "data": {
      "text/plain": [
       "Index(['childid', 'country', 'height', 'stunting_2cat', 'EDUYRS2', 'z_score',\n",
       "       'timeschool', 'agegapr1', 'momeduyrsr1', 'chsexr1', 'agemonr1',\n",
       "       'hhsizer1', 'wi_newr1', 'job_cat', 'pvt_sector', 'earn', 'earn_usd'],\n",
       "      dtype='object')"
      ]
     },
     "execution_count": 4,
     "metadata": {},
     "output_type": "execute_result"
    }
   ],
   "source": [
    "df_vietnam.columns"
   ]
  },
  {
   "cell_type": "code",
   "execution_count": 5,
   "metadata": {},
   "outputs": [],
   "source": [
    "from scipy import stats\n",
    "import scipy.stats as stats"
   ]
  },
  {
   "cell_type": "code",
   "execution_count": 6,
   "metadata": {},
   "outputs": [
    {
     "data": {
      "text/plain": [
       "<seaborn.axisgrid.FacetGrid at 0x2063c91e2b0>"
      ]
     },
     "execution_count": 6,
     "metadata": {},
     "output_type": "execute_result"
    },
    {
     "data": {
      "image/png": "[encoded data removed]",
      "text/plain": [
       "<Figure size 436.25x360 with 1 Axes>"
      ]
     },
     "metadata": {
      "needs_background": "light"
     },
     "output_type": "display_data"
    }
   ],
   "source": [
    "import seaborn as sns\n",
    "sns.displot(df_vietnam, x=\"EDUYRS2\", hue=\"stunting_2cat\", kind=\"kde\", multiple=\"stack\")"
   ]
  },
  {
   "cell_type": "code",
   "execution_count": 7,
   "metadata": {},
   "outputs": [],
   "source": [
    "df_vietnam=df_vietnam.astype({\"chsexr1\": 'object', \"job_cat\": 'object', \"pvt_sector\": 'object',\"stunting_2cat\": 'object'})"
   ]
  },
  {
   "cell_type": "code",
   "execution_count": 8,
   "metadata": {},
   "outputs": [],
   "source": [
    "df_outlier=df_vietnam.copy()"
   ]
  },
  {
   "cell_type": "code",
   "execution_count": 9,
   "metadata": {},
   "outputs": [
    {
     "data": {
      "text/html": [
       "<div>\n",
       "<style scoped>\n",
       "    .dataframe tbody tr th:only-of-type {\n",
       "        vertical-align: middle;\n",
       "    }\n",
       "\n",
       "    .dataframe tbody tr th {\n",
       "        vertical-align: top;\n",
       "    }\n",
       "\n",
       "    .dataframe thead th {\n",
       "        text-align: right;\n",
       "    }\n",
       "</style>\n",
       "<table border=\"1\" class=\"dataframe\">\n",
       "  <thead>\n",
       "    <tr style=\"text-align: right;\">\n",
       "      <th></th>\n",
       "      <th>Total</th>\n",
       "      <th>Missing Percent</th>\n",
       "    </tr>\n",
       "  </thead>\n",
       "  <tbody>\n",
       "  </tbody>\n",
       "</table>\n",
       "</div>"
      ],
      "text/plain": [
       "Empty DataFrame\n",
       "Columns: [Total, Missing Percent]\n",
       "Index: []"
      ]
     },
     "execution_count": 9,
     "metadata": {},
     "output_type": "execute_result"
    }
   ],
   "source": [
    "total = df_outlier.isnull().sum().sort_values(ascending=False)\n",
    "percent = (df_outlier.isnull().sum()/df_outlier.isnull().count()).sort_values(ascending=False)\n",
    "missing_data = pd.concat([total, percent], axis=1, keys=['Total', 'Missing Percent'])\n",
    "missing_data['Missing Percent'] = missing_data['Missing Percent'].apply(lambda x: x * 100)\n",
    "missing_data.loc[missing_data['Missing Percent'] > 95]"
   ]
  },
  {
   "cell_type": "code",
   "execution_count": 10,
   "metadata": {},
   "outputs": [],
   "source": [
    "df_outlier=df_outlier.select_dtypes(include=['int64','floating'])"
   ]
  },
  {
   "cell_type": "code",
   "execution_count": 11,
   "metadata": {},
   "outputs": [
    {
     "data": {
      "text/plain": [
       "height         float64\n",
       "EDUYRS2        float64\n",
       "z_score        float64\n",
       "timeschool     float64\n",
       "agegapr1       float64\n",
       "momeduyrsr1    float64\n",
       "agemonr1         int64\n",
       "hhsizer1         int64\n",
       "wi_newr1       float64\n",
       "earn           float64\n",
       "earn_usd       float64\n",
       "dtype: object"
      ]
     },
     "execution_count": 11,
     "metadata": {},
     "output_type": "execute_result"
    }
   ],
   "source": [
    "df_outlier.dtypes"
   ]
  },
  {
   "cell_type": "code",
   "execution_count": 12,
   "metadata": {},
   "outputs": [],
   "source": [
    "import warnings\n",
    "\n",
    "warnings.filterwarnings('ignore')"
   ]
  },
  {
   "cell_type": "code",
   "execution_count": 13,
   "metadata": {},
   "outputs": [
    {
     "data": {
      "text/plain": [
       "height         float64\n",
       "EDUYRS2        float64\n",
       "z_score        float64\n",
       "timeschool     float64\n",
       "agegapr1       float64\n",
       "momeduyrsr1    float64\n",
       "agemonr1         int64\n",
       "hhsizer1         int64\n",
       "wi_newr1       float64\n",
       "earn           float64\n",
       "earn_usd       float64\n",
       "dtype: object"
      ]
     },
     "execution_count": 13,
     "metadata": {},
     "output_type": "execute_result"
    }
   ],
   "source": [
    "df_outlier.dtypes"
   ]
  },
  {
   "cell_type": "code",
   "execution_count": 14,
   "metadata": {},
   "outputs": [],
   "source": [
    "def cap_data(df):\n",
    "    for col in df.columns:\n",
    "        print(\"capping the \",col)\n",
    "        if (((df[col].dtype)=='float64') | ((df[col].dtype)=='int64') | ((df[col].dtype)=='float32')):\n",
    "            percentiles = df[col].quantile([0.01,0.99]).values\n",
    "            df[col][df[col] <= percentiles[0]] = percentiles[0]\n",
    "            df[col][df[col] >= percentiles[1]] = percentiles[1]\n",
    "        else:\n",
    "            df[col]=df[col]\n",
    "    return df\n",
    "\n"
   ]
  },
  {
   "cell_type": "code",
   "execution_count": 15,
   "metadata": {},
   "outputs": [
    {
     "name": "stdout",
     "output_type": "stream",
     "text": [
      "capping the  height\n",
      "capping the  EDUYRS2\n",
      "capping the  z_score\n",
      "capping the  timeschool\n",
      "capping the  agegapr1\n",
      "capping the  momeduyrsr1\n",
      "capping the  agemonr1\n",
      "capping the  hhsizer1\n",
      "capping the  wi_newr1\n",
      "capping the  earn\n",
      "capping the  earn_usd\n"
     ]
    }
   ],
   "source": [
    "final_df=cap_data(df_outlier)"
   ]
  },
  {
   "cell_type": "code",
   "execution_count": 16,
   "metadata": {},
   "outputs": [],
   "source": [
    "from sklearn.impute import KNNImputer\n",
    "from sklearn.preprocessing import MinMaxScaler"
   ]
  },
  {
   "cell_type": "code",
   "execution_count": 17,
   "metadata": {},
   "outputs": [],
   "source": [
    "df_vietnam=df_vietnam.drop(['childid','country'],axis=1)"
   ]
  },
  {
   "cell_type": "code",
   "execution_count": 18,
   "metadata": {},
   "outputs": [],
   "source": [
    "all_category_features=df_vietnam.select_dtypes(include='object')"
   ]
  },
  {
   "cell_type": "code",
   "execution_count": 19,
   "metadata": {},
   "outputs": [
    {
     "name": "stdout",
     "output_type": "stream",
     "text": [
      "<class 'pandas.core.frame.DataFrame'>\n",
      "RangeIndex: 801 entries, 0 to 800\n",
      "Data columns (total 4 columns):\n",
      " #   Column         Non-Null Count  Dtype \n",
      "---  ------         --------------  ----- \n",
      " 0   stunting_2cat  801 non-null    object\n",
      " 1   chsexr1        801 non-null    object\n",
      " 2   job_cat        801 non-null    object\n",
      " 3   pvt_sector     801 non-null    object\n",
      "dtypes: object(4)\n",
      "memory usage: 25.2+ KB\n"
     ]
    }
   ],
   "source": [
    "all_category_features.info()"
   ]
  },
  {
   "cell_type": "markdown",
   "metadata": {},
   "source": [
    "# KNN for Categories"
   ]
  },
  {
   "cell_type": "code",
   "execution_count": 20,
   "metadata": {},
   "outputs": [],
   "source": [
    "mm = MinMaxScaler()\n",
    "\n",
    "def find_category_mappings(df, variable):\n",
    "    return {k: i for i, k in enumerate(df[variable].dropna().unique(), 0)}\n",
    "\n",
    "def integer_encode(df , variable, ordinal_mapping):\n",
    "    df[variable] = df[variable].map(ordinal_mapping)\n",
    "\n",
    "mappin = dict()\n",
    "def imputation(df1 , cols):\n",
    "    df = df1.copy()\n",
    "    #Encoding dict &amp; Removing nan    \n",
    "    #mappin = dict()\n",
    "    for variable in cols:\n",
    "        mappings = find_category_mappings(df, variable)\n",
    "        mappin[variable] = mappings\n",
    "\n",
    "    #Apply mapping\n",
    "    for variable in cols:\n",
    "        integer_encode(df, variable, mappin[variable])  \n",
    "\n",
    "    #Minmaxscaler and KNN imputation \n",
    "    sca = mm.fit_transform(df)\n",
    "    knn_imputer = KNNImputer()\n",
    "    knn = knn_imputer.fit_transform(sca)\n",
    "    df.iloc[:,:] = mm.inverse_transform(knn)\n",
    "    for i in df.columns : \n",
    "        df[i] = round(df[i]).astype('int')\n",
    "\n",
    "    #Inverse transform\n",
    "    for i in cols:\n",
    "        inv_map = {v: k for k, v in mappin[i].items()}\n",
    "        df[i] = df[i].map(inv_map)\n",
    "    return df"
   ]
  },
  {
   "cell_type": "code",
   "execution_count": 21,
   "metadata": {},
   "outputs": [],
   "source": [
    "df_cat_imp=imputation(all_category_features,['stunting_2cat','chsexr1','job_cat','pvt_sector'])"
   ]
  },
  {
   "cell_type": "code",
   "execution_count": 22,
   "metadata": {},
   "outputs": [
    {
     "data": {
      "text/plain": [
       "pvt_sector       0\n",
       "job_cat          0\n",
       "chsexr1          0\n",
       "stunting_2cat    0\n",
       "dtype: int64"
      ]
     },
     "execution_count": 22,
     "metadata": {},
     "output_type": "execute_result"
    }
   ],
   "source": [
    "df_cat_imp.isnull().sum().sort_values(ascending = False)"
   ]
  },
  {
   "cell_type": "code",
   "execution_count": 23,
   "metadata": {},
   "outputs": [
    {
     "name": "stdout",
     "output_type": "stream",
     "text": [
      "<class 'pandas.core.frame.DataFrame'>\n",
      "RangeIndex: 801 entries, 0 to 800\n",
      "Data columns (total 4 columns):\n",
      " #   Column         Non-Null Count  Dtype\n",
      "---  ------         --------------  -----\n",
      " 0   stunting_2cat  801 non-null    int64\n",
      " 1   chsexr1        801 non-null    int64\n",
      " 2   job_cat        801 non-null    int64\n",
      " 3   pvt_sector     801 non-null    int64\n",
      "dtypes: int64(4)\n",
      "memory usage: 25.2 KB\n"
     ]
    }
   ],
   "source": [
    "df_cat_imp.info()"
   ]
  },
  {
   "cell_type": "markdown",
   "metadata": {},
   "source": [
    "# KNN for numerics"
   ]
  },
  {
   "cell_type": "code",
   "execution_count": 24,
   "metadata": {},
   "outputs": [],
   "source": [
    "df_knn=final_df.copy()"
   ]
  },
  {
   "cell_type": "code",
   "execution_count": 25,
   "metadata": {},
   "outputs": [],
   "source": [
    "from sklearn.impute import KNNImputer\n",
    "imputer = KNNImputer(n_neighbors=5)\n",
    "df_num_imp = pd.DataFrame(imputer.fit_transform(df_knn),columns = df_knn.columns)"
   ]
  },
  {
   "cell_type": "code",
   "execution_count": 26,
   "metadata": {},
   "outputs": [
    {
     "data": {
      "text/html": [
       "<div>\n",
       "<style scoped>\n",
       "    .dataframe tbody tr th:only-of-type {\n",
       "        vertical-align: middle;\n",
       "    }\n",
       "\n",
       "    .dataframe tbody tr th {\n",
       "        vertical-align: top;\n",
       "    }\n",
       "\n",
       "    .dataframe thead th {\n",
       "        text-align: right;\n",
       "    }\n",
       "</style>\n",
       "<table border=\"1\" class=\"dataframe\">\n",
       "  <thead>\n",
       "    <tr style=\"text-align: right;\">\n",
       "      <th></th>\n",
       "      <th>height</th>\n",
       "      <th>EDUYRS2</th>\n",
       "      <th>z_score</th>\n",
       "      <th>timeschool</th>\n",
       "      <th>agegapr1</th>\n",
       "      <th>momeduyrsr1</th>\n",
       "      <th>agemonr1</th>\n",
       "      <th>hhsizer1</th>\n",
       "      <th>wi_newr1</th>\n",
       "      <th>earn</th>\n",
       "      <th>earn_usd</th>\n",
       "    </tr>\n",
       "  </thead>\n",
       "  <tbody>\n",
       "    <tr>\n",
       "      <th>0</th>\n",
       "      <td>170.000000</td>\n",
       "      <td>12.0</td>\n",
       "      <td>-0.493371</td>\n",
       "      <td>5.0</td>\n",
       "      <td>1.8</td>\n",
       "      <td>12.0</td>\n",
       "      <td>91.0</td>\n",
       "      <td>5.0</td>\n",
       "      <td>0.561111</td>\n",
       "      <td>0.0</td>\n",
       "      <td>0.000000</td>\n",
       "    </tr>\n",
       "    <tr>\n",
       "      <th>1</th>\n",
       "      <td>153.500000</td>\n",
       "      <td>12.0</td>\n",
       "      <td>-0.795860</td>\n",
       "      <td>15.0</td>\n",
       "      <td>3.0</td>\n",
       "      <td>9.0</td>\n",
       "      <td>92.0</td>\n",
       "      <td>6.0</td>\n",
       "      <td>0.546296</td>\n",
       "      <td>0.0</td>\n",
       "      <td>0.000000</td>\n",
       "    </tr>\n",
       "    <tr>\n",
       "      <th>2</th>\n",
       "      <td>158.000000</td>\n",
       "      <td>8.0</td>\n",
       "      <td>-1.421140</td>\n",
       "      <td>5.0</td>\n",
       "      <td>7.0</td>\n",
       "      <td>6.0</td>\n",
       "      <td>100.0</td>\n",
       "      <td>5.0</td>\n",
       "      <td>0.455556</td>\n",
       "      <td>19200000.0</td>\n",
       "      <td>875.313416</td>\n",
       "    </tr>\n",
       "    <tr>\n",
       "      <th>3</th>\n",
       "      <td>157.500000</td>\n",
       "      <td>12.0</td>\n",
       "      <td>-0.539453</td>\n",
       "      <td>10.0</td>\n",
       "      <td>0.0</td>\n",
       "      <td>9.0</td>\n",
       "      <td>94.0</td>\n",
       "      <td>6.0</td>\n",
       "      <td>0.592593</td>\n",
       "      <td>4600000.0</td>\n",
       "      <td>209.710495</td>\n",
       "    </tr>\n",
       "    <tr>\n",
       "      <th>4</th>\n",
       "      <td>157.600006</td>\n",
       "      <td>16.0</td>\n",
       "      <td>-0.297198</td>\n",
       "      <td>10.0</td>\n",
       "      <td>4.0</td>\n",
       "      <td>0.0</td>\n",
       "      <td>95.0</td>\n",
       "      <td>5.0</td>\n",
       "      <td>0.466667</td>\n",
       "      <td>2800000.0</td>\n",
       "      <td>127.649872</td>\n",
       "    </tr>\n",
       "  </tbody>\n",
       "</table>\n",
       "</div>"
      ],
      "text/plain": [
       "       height  EDUYRS2   z_score  timeschool  agegapr1  momeduyrsr1  agemonr1  \\\n",
       "0  170.000000     12.0 -0.493371         5.0       1.8         12.0      91.0   \n",
       "1  153.500000     12.0 -0.795860        15.0       3.0          9.0      92.0   \n",
       "2  158.000000      8.0 -1.421140         5.0       7.0          6.0     100.0   \n",
       "3  157.500000     12.0 -0.539453        10.0       0.0          9.0      94.0   \n",
       "4  157.600006     16.0 -0.297198        10.0       4.0          0.0      95.0   \n",
       "\n",
       "   hhsizer1  wi_newr1        earn    earn_usd  \n",
       "0       5.0  0.561111         0.0    0.000000  \n",
       "1       6.0  0.546296         0.0    0.000000  \n",
       "2       5.0  0.455556  19200000.0  875.313416  \n",
       "3       6.0  0.592593   4600000.0  209.710495  \n",
       "4       5.0  0.466667   2800000.0  127.649872  "
      ]
     },
     "execution_count": 26,
     "metadata": {},
     "output_type": "execute_result"
    }
   ],
   "source": [
    "df_num_imp.head()"
   ]
  },
  {
   "cell_type": "code",
   "execution_count": 27,
   "metadata": {},
   "outputs": [
    {
     "data": {
      "text/html": [
       "<div>\n",
       "<style scoped>\n",
       "    .dataframe tbody tr th:only-of-type {\n",
       "        vertical-align: middle;\n",
       "    }\n",
       "\n",
       "    .dataframe tbody tr th {\n",
       "        vertical-align: top;\n",
       "    }\n",
       "\n",
       "    .dataframe thead th {\n",
       "        text-align: right;\n",
       "    }\n",
       "</style>\n",
       "<table border=\"1\" class=\"dataframe\">\n",
       "  <thead>\n",
       "    <tr style=\"text-align: right;\">\n",
       "      <th></th>\n",
       "      <th>height</th>\n",
       "      <th>EDUYRS2</th>\n",
       "      <th>z_score</th>\n",
       "      <th>timeschool</th>\n",
       "      <th>agegapr1</th>\n",
       "      <th>momeduyrsr1</th>\n",
       "      <th>agemonr1</th>\n",
       "      <th>hhsizer1</th>\n",
       "      <th>wi_newr1</th>\n",
       "      <th>earn</th>\n",
       "      <th>earn_usd</th>\n",
       "      <th>stunting_2cat</th>\n",
       "      <th>chsexr1</th>\n",
       "      <th>job_cat</th>\n",
       "      <th>pvt_sector</th>\n",
       "    </tr>\n",
       "  </thead>\n",
       "  <tbody>\n",
       "    <tr>\n",
       "      <th>0</th>\n",
       "      <td>170.000000</td>\n",
       "      <td>12.0</td>\n",
       "      <td>-0.493371</td>\n",
       "      <td>5.0</td>\n",
       "      <td>1.8</td>\n",
       "      <td>12.0</td>\n",
       "      <td>91.0</td>\n",
       "      <td>5.0</td>\n",
       "      <td>0.561111</td>\n",
       "      <td>0.0</td>\n",
       "      <td>0.000000</td>\n",
       "      <td>1</td>\n",
       "      <td>1</td>\n",
       "      <td>1</td>\n",
       "      <td>1</td>\n",
       "    </tr>\n",
       "    <tr>\n",
       "      <th>1</th>\n",
       "      <td>153.500000</td>\n",
       "      <td>12.0</td>\n",
       "      <td>-0.795860</td>\n",
       "      <td>15.0</td>\n",
       "      <td>3.0</td>\n",
       "      <td>9.0</td>\n",
       "      <td>92.0</td>\n",
       "      <td>6.0</td>\n",
       "      <td>0.546296</td>\n",
       "      <td>0.0</td>\n",
       "      <td>0.000000</td>\n",
       "      <td>1</td>\n",
       "      <td>0</td>\n",
       "      <td>1</td>\n",
       "      <td>1</td>\n",
       "    </tr>\n",
       "    <tr>\n",
       "      <th>2</th>\n",
       "      <td>158.000000</td>\n",
       "      <td>8.0</td>\n",
       "      <td>-1.421140</td>\n",
       "      <td>5.0</td>\n",
       "      <td>7.0</td>\n",
       "      <td>6.0</td>\n",
       "      <td>100.0</td>\n",
       "      <td>5.0</td>\n",
       "      <td>0.455556</td>\n",
       "      <td>19200000.0</td>\n",
       "      <td>875.313416</td>\n",
       "      <td>1</td>\n",
       "      <td>0</td>\n",
       "      <td>2</td>\n",
       "      <td>1</td>\n",
       "    </tr>\n",
       "    <tr>\n",
       "      <th>3</th>\n",
       "      <td>157.500000</td>\n",
       "      <td>12.0</td>\n",
       "      <td>-0.539453</td>\n",
       "      <td>10.0</td>\n",
       "      <td>0.0</td>\n",
       "      <td>9.0</td>\n",
       "      <td>94.0</td>\n",
       "      <td>6.0</td>\n",
       "      <td>0.592593</td>\n",
       "      <td>4600000.0</td>\n",
       "      <td>209.710495</td>\n",
       "      <td>0</td>\n",
       "      <td>0</td>\n",
       "      <td>5</td>\n",
       "      <td>1</td>\n",
       "    </tr>\n",
       "    <tr>\n",
       "      <th>4</th>\n",
       "      <td>157.600006</td>\n",
       "      <td>16.0</td>\n",
       "      <td>-0.297198</td>\n",
       "      <td>10.0</td>\n",
       "      <td>4.0</td>\n",
       "      <td>0.0</td>\n",
       "      <td>95.0</td>\n",
       "      <td>5.0</td>\n",
       "      <td>0.466667</td>\n",
       "      <td>2800000.0</td>\n",
       "      <td>127.649872</td>\n",
       "      <td>0</td>\n",
       "      <td>0</td>\n",
       "      <td>5</td>\n",
       "      <td>1</td>\n",
       "    </tr>\n",
       "  </tbody>\n",
       "</table>\n",
       "</div>"
      ],
      "text/plain": [
       "       height  EDUYRS2   z_score  timeschool  agegapr1  momeduyrsr1  agemonr1  \\\n",
       "0  170.000000     12.0 -0.493371         5.0       1.8         12.0      91.0   \n",
       "1  153.500000     12.0 -0.795860        15.0       3.0          9.0      92.0   \n",
       "2  158.000000      8.0 -1.421140         5.0       7.0          6.0     100.0   \n",
       "3  157.500000     12.0 -0.539453        10.0       0.0          9.0      94.0   \n",
       "4  157.600006     16.0 -0.297198        10.0       4.0          0.0      95.0   \n",
       "\n",
       "   hhsizer1  wi_newr1        earn    earn_usd  stunting_2cat  chsexr1  \\\n",
       "0       5.0  0.561111         0.0    0.000000              1        1   \n",
       "1       6.0  0.546296         0.0    0.000000              1        0   \n",
       "2       5.0  0.455556  19200000.0  875.313416              1        0   \n",
       "3       6.0  0.592593   4600000.0  209.710495              0        0   \n",
       "4       5.0  0.466667   2800000.0  127.649872              0        0   \n",
       "\n",
       "   job_cat  pvt_sector  \n",
       "0        1           1  \n",
       "1        1           1  \n",
       "2        2           1  \n",
       "3        5           1  \n",
       "4        5           1  "
      ]
     },
     "execution_count": 27,
     "metadata": {},
     "output_type": "execute_result"
    }
   ],
   "source": [
    "df_outlier_concat = pd.concat([df_num_imp, df_cat_imp], axis=1)\n",
    "df_outlier_concat.head()"
   ]
  },
  {
   "cell_type": "code",
   "execution_count": 28,
   "metadata": {},
   "outputs": [],
   "source": [
    "df_outlier_concat=df_outlier_concat.astype({\"stunting_2cat\": 'int64'})"
   ]
  },
  {
   "cell_type": "code",
   "execution_count": 29,
   "metadata": {},
   "outputs": [
    {
     "data": {
      "text/html": [
       "<div>\n",
       "<style scoped>\n",
       "    .dataframe tbody tr th:only-of-type {\n",
       "        vertical-align: middle;\n",
       "    }\n",
       "\n",
       "    .dataframe tbody tr th {\n",
       "        vertical-align: top;\n",
       "    }\n",
       "\n",
       "    .dataframe thead th {\n",
       "        text-align: right;\n",
       "    }\n",
       "</style>\n",
       "<table border=\"1\" class=\"dataframe\">\n",
       "  <thead>\n",
       "    <tr style=\"text-align: right;\">\n",
       "      <th></th>\n",
       "      <th>height</th>\n",
       "      <th>EDUYRS2</th>\n",
       "      <th>z_score</th>\n",
       "      <th>timeschool</th>\n",
       "      <th>agegapr1</th>\n",
       "      <th>momeduyrsr1</th>\n",
       "      <th>agemonr1</th>\n",
       "      <th>hhsizer1</th>\n",
       "      <th>wi_newr1</th>\n",
       "      <th>earn</th>\n",
       "      <th>earn_usd</th>\n",
       "      <th>stunting_2cat</th>\n",
       "      <th>chsexr1</th>\n",
       "      <th>job_cat</th>\n",
       "      <th>pvt_sector</th>\n",
       "    </tr>\n",
       "  </thead>\n",
       "  <tbody>\n",
       "    <tr>\n",
       "      <th>0</th>\n",
       "      <td>170.000000</td>\n",
       "      <td>12.0</td>\n",
       "      <td>-0.493371</td>\n",
       "      <td>5.0</td>\n",
       "      <td>1.8</td>\n",
       "      <td>12.0</td>\n",
       "      <td>91.0</td>\n",
       "      <td>5.0</td>\n",
       "      <td>0.561111</td>\n",
       "      <td>0.0</td>\n",
       "      <td>0.000000</td>\n",
       "      <td>1</td>\n",
       "      <td>1</td>\n",
       "      <td>1</td>\n",
       "      <td>1</td>\n",
       "    </tr>\n",
       "    <tr>\n",
       "      <th>1</th>\n",
       "      <td>153.500000</td>\n",
       "      <td>12.0</td>\n",
       "      <td>-0.795860</td>\n",
       "      <td>15.0</td>\n",
       "      <td>3.0</td>\n",
       "      <td>9.0</td>\n",
       "      <td>92.0</td>\n",
       "      <td>6.0</td>\n",
       "      <td>0.546296</td>\n",
       "      <td>0.0</td>\n",
       "      <td>0.000000</td>\n",
       "      <td>1</td>\n",
       "      <td>0</td>\n",
       "      <td>1</td>\n",
       "      <td>1</td>\n",
       "    </tr>\n",
       "    <tr>\n",
       "      <th>2</th>\n",
       "      <td>158.000000</td>\n",
       "      <td>8.0</td>\n",
       "      <td>-1.421140</td>\n",
       "      <td>5.0</td>\n",
       "      <td>7.0</td>\n",
       "      <td>6.0</td>\n",
       "      <td>100.0</td>\n",
       "      <td>5.0</td>\n",
       "      <td>0.455556</td>\n",
       "      <td>19200000.0</td>\n",
       "      <td>875.313416</td>\n",
       "      <td>1</td>\n",
       "      <td>0</td>\n",
       "      <td>2</td>\n",
       "      <td>1</td>\n",
       "    </tr>\n",
       "    <tr>\n",
       "      <th>3</th>\n",
       "      <td>157.500000</td>\n",
       "      <td>12.0</td>\n",
       "      <td>-0.539453</td>\n",
       "      <td>10.0</td>\n",
       "      <td>0.0</td>\n",
       "      <td>9.0</td>\n",
       "      <td>94.0</td>\n",
       "      <td>6.0</td>\n",
       "      <td>0.592593</td>\n",
       "      <td>4600000.0</td>\n",
       "      <td>209.710495</td>\n",
       "      <td>0</td>\n",
       "      <td>0</td>\n",
       "      <td>5</td>\n",
       "      <td>1</td>\n",
       "    </tr>\n",
       "    <tr>\n",
       "      <th>4</th>\n",
       "      <td>157.600006</td>\n",
       "      <td>16.0</td>\n",
       "      <td>-0.297198</td>\n",
       "      <td>10.0</td>\n",
       "      <td>4.0</td>\n",
       "      <td>0.0</td>\n",
       "      <td>95.0</td>\n",
       "      <td>5.0</td>\n",
       "      <td>0.466667</td>\n",
       "      <td>2800000.0</td>\n",
       "      <td>127.649872</td>\n",
       "      <td>0</td>\n",
       "      <td>0</td>\n",
       "      <td>5</td>\n",
       "      <td>1</td>\n",
       "    </tr>\n",
       "  </tbody>\n",
       "</table>\n",
       "</div>"
      ],
      "text/plain": [
       "       height  EDUYRS2   z_score  timeschool  agegapr1  momeduyrsr1  agemonr1  \\\n",
       "0  170.000000     12.0 -0.493371         5.0       1.8         12.0      91.0   \n",
       "1  153.500000     12.0 -0.795860        15.0       3.0          9.0      92.0   \n",
       "2  158.000000      8.0 -1.421140         5.0       7.0          6.0     100.0   \n",
       "3  157.500000     12.0 -0.539453        10.0       0.0          9.0      94.0   \n",
       "4  157.600006     16.0 -0.297198        10.0       4.0          0.0      95.0   \n",
       "\n",
       "   hhsizer1  wi_newr1        earn    earn_usd  stunting_2cat  chsexr1  \\\n",
       "0       5.0  0.561111         0.0    0.000000              1        1   \n",
       "1       6.0  0.546296         0.0    0.000000              1        0   \n",
       "2       5.0  0.455556  19200000.0  875.313416              1        0   \n",
       "3       6.0  0.592593   4600000.0  209.710495              0        0   \n",
       "4       5.0  0.466667   2800000.0  127.649872              0        0   \n",
       "\n",
       "   job_cat  pvt_sector  \n",
       "0        1           1  \n",
       "1        1           1  \n",
       "2        2           1  \n",
       "3        5           1  \n",
       "4        5           1  "
      ]
     },
     "execution_count": 29,
     "metadata": {},
     "output_type": "execute_result"
    }
   ],
   "source": [
    "df_outlier_concat.head()"
   ]
  },
  {
   "cell_type": "code",
   "execution_count": 30,
   "metadata": {},
   "outputs": [],
   "source": [
    "df_knn_imp=df_outlier_concat.copy()"
   ]
  },
  {
   "cell_type": "markdown",
   "metadata": {},
   "source": [
    "# Bayesian"
   ]
  },
  {
   "cell_type": "code",
   "execution_count": 31,
   "metadata": {},
   "outputs": [],
   "source": [
    "Y = df_knn_imp['EDUYRS2']\n",
    "X = df_knn_imp[['stunting_2cat']]"
   ]
  },
  {
   "cell_type": "code",
   "execution_count": 32,
   "metadata": {},
   "outputs": [
    {
     "name": "stderr",
     "output_type": "stream",
     "text": [
      "Multiprocess sampling (4 chains in 4 jobs)\n",
      "NUTS: [sigma, stunting_2cat, Intercept]\n"
     ]
    },
    {
     "data": {
      "text/html": [
       "\n",
       "    <div>\n",
       "        <style>\n",
       "            /* Turns off some styling */\n",
       "            progress {\n",
       "                /* gets rid of default border in Firefox and Opera. */\n",
       "                border: none;\n",
       "                /* Needs to be in here for Safari polyfill so background images work as expected. */\n",
       "                background-size: auto;\n",
       "            }\n",
       "            .progress-bar-interrupted, .progress-bar-interrupted::-webkit-progress-bar {\n",
       "                background: #F44336;\n",
       "            }\n",
       "        </style>\n",
       "      <progress value='44000' class='' max='44000' style='width:300px; height:20px; vertical-align: middle;'></progress>\n",
       "      100.00% [44000/44000 00:16<00:00 Sampling 4 chains, 0 divergences]\n",
       "    </div>\n",
       "    "
      ],
      "text/plain": [
       "<IPython.core.display.HTML object>"
      ]
     },
     "metadata": {},
     "output_type": "display_data"
    },
    {
     "name": "stderr",
     "output_type": "stream",
     "text": [
      "Sampling 4 chains for 1_000 tune and 10_000 draw iterations (4_000 + 40_000 draws total) took 36 seconds.\n"
     ]
    }
   ],
   "source": [
    "import pymc3 as pm\n",
    "\n",
    "with pm.Model() as linear_model:\n",
    "    # Intercept\n",
    "    intercept = pm.Normal('Intercept', mu =7.9 , sd = 10)\n",
    "    \n",
    "    # Slope \n",
    "    stunting_2cat = pm.Normal('stunting_2cat', mu = 1, sd = 3.2)\n",
    "    \n",
    "    \n",
    "    # Standard deviation\n",
    "    sigma = pm.HalfNormal('sigma', sd = 10)\n",
    "    \n",
    "    # Estimate of mean\n",
    "    mean = intercept + stunting_2cat * X.loc[:, 'stunting_2cat'] \n",
    "\n",
    "    \n",
    "    # Observed values\n",
    "    Y_obs = pm.Normal('Y_obs', mu = mean, sd = sigma, observed = Y.values)\n",
    "    \n",
    "    # Sampler\n",
    "    step = pm.NUTS()\n",
    "\n",
    "    # Posterior distribution\n",
    "    linear_trace = pm.sample(10000, step)"
   ]
  },
  {
   "cell_type": "code",
   "execution_count": 33,
   "metadata": {},
   "outputs": [
    {
     "data": {
      "text/html": [
       "<div>\n",
       "<style scoped>\n",
       "    .dataframe tbody tr th:only-of-type {\n",
       "        vertical-align: middle;\n",
       "    }\n",
       "\n",
       "    .dataframe tbody tr th {\n",
       "        vertical-align: top;\n",
       "    }\n",
       "\n",
       "    .dataframe thead th {\n",
       "        text-align: right;\n",
       "    }\n",
       "</style>\n",
       "<table border=\"1\" class=\"dataframe\">\n",
       "  <thead>\n",
       "    <tr style=\"text-align: right;\">\n",
       "      <th></th>\n",
       "      <th>mean</th>\n",
       "      <th>sd</th>\n",
       "      <th>hdi_3%</th>\n",
       "      <th>hdi_97%</th>\n",
       "      <th>mcse_mean</th>\n",
       "      <th>mcse_sd</th>\n",
       "      <th>ess_mean</th>\n",
       "      <th>ess_sd</th>\n",
       "      <th>ess_bulk</th>\n",
       "      <th>ess_tail</th>\n",
       "      <th>r_hat</th>\n",
       "    </tr>\n",
       "  </thead>\n",
       "  <tbody>\n",
       "    <tr>\n",
       "      <th>Intercept</th>\n",
       "      <td>11.690</td>\n",
       "      <td>0.136</td>\n",
       "      <td>11.434</td>\n",
       "      <td>11.945</td>\n",
       "      <td>0.001</td>\n",
       "      <td>0.001</td>\n",
       "      <td>27118.0</td>\n",
       "      <td>27083.0</td>\n",
       "      <td>27122.0</td>\n",
       "      <td>26388.0</td>\n",
       "      <td>1.0</td>\n",
       "    </tr>\n",
       "    <tr>\n",
       "      <th>stunting_2cat</th>\n",
       "      <td>-1.282</td>\n",
       "      <td>0.252</td>\n",
       "      <td>-1.752</td>\n",
       "      <td>-0.808</td>\n",
       "      <td>0.002</td>\n",
       "      <td>0.001</td>\n",
       "      <td>27896.0</td>\n",
       "      <td>27672.0</td>\n",
       "      <td>27884.0</td>\n",
       "      <td>28842.0</td>\n",
       "      <td>1.0</td>\n",
       "    </tr>\n",
       "    <tr>\n",
       "      <th>sigma</th>\n",
       "      <td>3.188</td>\n",
       "      <td>0.081</td>\n",
       "      <td>3.043</td>\n",
       "      <td>3.344</td>\n",
       "      <td>0.000</td>\n",
       "      <td>0.000</td>\n",
       "      <td>38491.0</td>\n",
       "      <td>38412.0</td>\n",
       "      <td>38514.0</td>\n",
       "      <td>28176.0</td>\n",
       "      <td>1.0</td>\n",
       "    </tr>\n",
       "  </tbody>\n",
       "</table>\n",
       "</div>"
      ],
      "text/plain": [
       "                 mean     sd  hdi_3%  hdi_97%  mcse_mean  mcse_sd  ess_mean  \\\n",
       "Intercept      11.690  0.136  11.434   11.945      0.001    0.001   27118.0   \n",
       "stunting_2cat  -1.282  0.252  -1.752   -0.808      0.002    0.001   27896.0   \n",
       "sigma           3.188  0.081   3.043    3.344      0.000    0.000   38491.0   \n",
       "\n",
       "                ess_sd  ess_bulk  ess_tail  r_hat  \n",
       "Intercept      27083.0   27122.0   26388.0    1.0  \n",
       "stunting_2cat  27672.0   27884.0   28842.0    1.0  \n",
       "sigma          38412.0   38514.0   28176.0    1.0  "
      ]
     },
     "execution_count": 33,
     "metadata": {},
     "output_type": "execute_result"
    }
   ],
   "source": [
    "az.summary(linear_trace)"
   ]
  },
  {
   "cell_type": "code",
   "execution_count": 34,
   "metadata": {},
   "outputs": [
    {
     "data": {
      "text/plain": [
       "array([[<AxesSubplot:title={'center':'Intercept'}>,\n",
       "        <AxesSubplot:title={'center':'Intercept'}>],\n",
       "       [<AxesSubplot:title={'center':'stunting_2cat'}>,\n",
       "        <AxesSubplot:title={'center':'stunting_2cat'}>],\n",
       "       [<AxesSubplot:title={'center':'sigma'}>,\n",
       "        <AxesSubplot:title={'center':'sigma'}>]], dtype=object)"
      ]
     },
     "execution_count": 34,
     "metadata": {},
     "output_type": "execute_result"
    },
    {
     "data": {
      "image/png": "[encoded data removed]",
      "text/plain": [
       "<Figure size 864x432 with 6 Axes>"
      ]
     },
     "metadata": {
      "needs_background": "light"
     },
     "output_type": "display_data"
    }
   ],
   "source": [
    "az.plot_trace(linear_trace)"
   ]
  },
  {
   "cell_type": "code",
   "execution_count": 35,
   "metadata": {},
   "outputs": [
    {
     "data": {
      "image/png": "[encoded data removed]",
      "text/plain": [
       "<Figure size 432x518.4 with 1 Axes>"
      ]
     },
     "metadata": {
      "needs_background": "light"
     },
     "output_type": "display_data"
    }
   ],
   "source": [
    "az.plot_forest(linear_trace);"
   ]
  },
  {
   "cell_type": "code",
   "execution_count": null,
   "metadata": {},
   "outputs": [],
   "source": []
  }
 ],
 "metadata": {
  "kernelspec": {
   "display_name": "Python 3",
   "language": "python",
   "name": "python3"
  },
  "language_info": {
   "codemirror_mode": {
    "name": "ipython",
    "version": 3
   },
   "file_extension": ".py",
   "mimetype": "text/x-python",
   "name": "python",
   "nbconvert_exporter": "python",
   "pygments_lexer": "ipython3",
   "version": "3.8.5"
  }
 },
 "nbformat": 4,
 "nbformat_minor": 4
}
